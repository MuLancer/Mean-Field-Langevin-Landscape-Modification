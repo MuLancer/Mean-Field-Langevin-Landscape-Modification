{
 "cells": [
  {
   "cell_type": "code",
   "execution_count": 1,
   "id": "597f2580",
   "metadata": {},
   "outputs": [],
   "source": [
    "using PyPlot, Random, SpecialFunctions, ProgressMeter"
   ]
  },
  {
   "cell_type": "markdown",
   "id": "36c57882",
   "metadata": {},
   "source": [
    "### Experiments for \"Mean-Field Lagevin Dynamics: Exponential convergence and annealing\""
   ]
  },
  {
   "cell_type": "markdown",
   "id": "4aace0af",
   "metadata": {},
   "source": [
    "We consider interacting particles on the 2d torus $(\\mathbb{R}/\\mathbb{Z})^d$, with a positive semi-definite interaction kernel. \n",
    "\n",
    "Definition of the interaction kernel and its derivatives:"
   ]
  },
  {
   "cell_type": "code",
   "execution_count": null,
   "id": "b6947d92",
   "metadata": {},
   "outputs": [
    {
     "data": {
      "text/plain": [
       "d2_dirichlet (generic function with 1 method)"
      ]
     },
     "metadata": {},
     "output_type": "display_data"
    }
   ],
   "source": [
    "#modified Dirichlet kernel\n",
    "dc = 1.0 # decay coefficient of the frequency components\n",
    "dirichlet(x,n)  = (1 + 2*sum(cos.(k*x[1])/(1+k^dc) for k=1:n))*(1 + 2*sum(cos.(k*x[2])/(1+k^dc) for k=1:n))\n",
    "dirichlet(x,y,n)  = (1 + 2*sum(cos.(k*x)/(1+k^dc) for k=1:n))*(1 + 2*sum(cos.(k*y)/(1+k^dc) for k=1:n))\n",
    "# the partial derivatives\n",
    "d1_dirichlet(x,n)  = 2*sum(-k*sin.(k*x[1])/(1+k^dc) for k=1:n)*(1 + 2*sum(cos.(k*x[2])/(1+k^dc) for k=1:n))\n",
    "d2_dirichlet(x,n)  = 2*sum(-k*sin.(k*x[2])/(1+k^dc) for k=1:n)*(1 + 2*sum(cos.(k*x[1])/(1+k^dc) for k=1:n))\n"
   ]
  },
  {
   "cell_type": "code",
   "execution_count": 3,
   "id": "7966ced1",
   "metadata": {},
   "outputs": [],
   "source": [
    "figure(figsize=[3,3])\n",
    "xs = range(-π,π,length=100)\n",
    "pcolor(xs,xs,dirichlet.(xs,xs',4));"
   ]
  },
  {
   "cell_type": "markdown",
   "id": "4a5de649",
   "metadata": {},
   "source": [
    "The objective function involves the entropy, which we estimate with a nearest-neighbor estimator."
   ]
  },
  {
   "cell_type": "code",
   "execution_count": 4,
   "id": "b003aaed",
   "metadata": {},
   "outputs": [
    {
     "data": {
      "text/plain": [
       "kNN_entropy_est"
      ]
     },
     "metadata": {},
     "output_type": "display_data"
    }
   ],
   "source": [
    "\"k-NN entropy estimator for the point cloud X of m points in the d-dimension torus\"\n",
    "function kNN_entropy_est(X,k=1)\n",
    "    d,m = size(X)\n",
    "    dists = [ sqrt(sum(min.(mod.(X[:,i]-X[:,j],2π),mod.(-X[:,i]+X[:,j],2π)).^2)) for i=1:m, j=1:m ] #computes twice as much as needed\n",
    "    kdist = [partialsort(dists[:,i], k+1) for i=1:m]\n",
    "    return - digamma(m) + digamma(k) - (d/2)*log(π) + log(gamma(1+d/2)) - (d/m)*sum(log.(kdist))\n",
    "end"
   ]
  },
  {
   "cell_type": "markdown",
   "id": "7f853ac1",
   "metadata": {},
   "source": [
    "Main algorithm that computes the evolution of the particles"
   ]
  },
  {
   "cell_type": "code",
   "execution_count": 5,
   "id": "dd2e0608",
   "metadata": {},
   "outputs": [
    {
     "data": {
      "text/plain": [
       "PGD (generic function with 1 method)"
      ]
     },
     "metadata": {},
     "output_type": "display_data"
    }
   ],
   "source": [
    "function PGD(X_init, X_target, tau, niter; annealed=true)\n",
    "stepsize = 0.08\n",
    "n = 5 #nb of freq component in the Dirichlet kernel\n",
    "grad=zeros(d,m)\n",
    "G = zeros(niter-1)\n",
    "H = zeros(niter-1)\n",
    "F = zeros(niter-1)\n",
    "X = zeros(d, m , niter)\n",
    "X[:,:,1] = X_init\n",
    "tau_t = tau\n",
    "for t = 1:niter-1\n",
    "    G[t] = ( sum(dirichlet(X[:,i,t] - X[:,j,t],n) for i=1:m, j=1:m)/m^2 \n",
    "            - 2*sum(dirichlet(X[:,i,t] - X_target[:,j],n) for i=1:m, j=1:m_target)/(m*m_target)\n",
    "            + sum(dirichlet(X_target[:,i] - X_target[:,j],n) for i=1:m_target, j=1:m_target)/m_target^2)\n",
    "    \n",
    "    H[t] = kNN_entropy_est(X[:,:,t],1)\n",
    "    if annealed\n",
    "        tau_t = tau*(t+1)^(-1)\n",
    "    else\n",
    "        tau_t = tau\n",
    "    end\n",
    "    F[t] = G[t] + tau_t * H[t]\n",
    "    for i=1:m\n",
    "        grad[1,i] = (sum( d1_dirichlet(X[:,i,t] - X[:,j,t], n) for j=1:m)/m \n",
    "                        - sum( d1_dirichlet(X[:,i,t] - X_target[:,j], n ) for j=1:m_target)/m_target )\n",
    "        grad[2,i] = (sum( d2_dirichlet(X[:,i,t] - X[:,j,t], n) for j=1:m)/m \n",
    "                        - sum( d2_dirichlet(X[:,i,t] - X_target[:,j], n ) for j=1:m_target)/m_target )\n",
    "    end\n",
    "    if t>niter*0.8\n",
    "        X[:,:,t+1] = X[:,:,t] .- stepsize * grad\n",
    "    else \n",
    "        X[:,:,t+1] = X[:,:,t] .- stepsize * grad .+ sqrt(2*stepsize*tau_t) * randn(d,m)\n",
    "    end\n",
    "end\n",
    "    return X, G, H, F\n",
    "end"
   ]
  },
  {
   "cell_type": "code",
   "execution_count": 6,
   "metadata": {},
   "outputs": [
    {
     "data": {
      "text/plain": [
       "grad_LM (generic function with 1 method)"
      ]
     },
     "metadata": {},
     "output_type": "display_data"
    }
   ],
   "source": [
    "# apply landscape modification to the gradient\n",
    "function grad_LM(G_t, grad, iter; c, alpha_init, decay_factor, f, epsilon)\n",
    "    alpha = alpha_init * (decay_factor^iter)\n",
    "    mod_factor = alpha * f(max(0, (G_t - c))) + epsilon\n",
    "    return grad / mod_factor\n",
    "end"
   ]
  },
  {
   "cell_type": "code",
   "execution_count": null,
   "id": "34474d42",
   "metadata": {},
   "outputs": [
    {
     "data": {
      "text/plain": [
       "PGD_LM (generic function with 1 method)"
      ]
     },
     "metadata": {},
     "output_type": "display_data"
    }
   ],
   "source": [
    "function PGD_LM(X_init, X_target, tau, niter; \n",
    "                c = Inf, alpha_init=1.0, decay_factor=1, f = x -> x^2, epsilon = 1.0, c_adaptive=true, annealed=true)\n",
    "    stepsize = 0.08\n",
    "    n = 5  #nb of freq component in the Dirichlet kernel\n",
    "    grad = zeros(d, m)\n",
    "    G = zeros(niter-1)\n",
    "    H = zeros(niter-1)\n",
    "    F = zeros(niter-1)\n",
    "    X = zeros(d, m , niter)\n",
    "    X[:,:,1] = X_init\n",
    "    tau_t = tau\n",
    "\n",
    "    for t = 1:niter-1\n",
    "        G[t] = ( sum(dirichlet(X[:,i,t] - X[:,j,t], n) for i=1:m, j=1:m)/m^2 \n",
    "                - 2*sum(dirichlet(X[:,i,t] - X_target[:,j], n) for i=1:m, j=1:m_target)/(m*m_target)\n",
    "                + sum(dirichlet(X_target[:,i] - X_target[:,j], n) for i=1:m_target, j=1:m_target)/m_target^2)\n",
    "        \n",
    "        # Update running minimum of the potential function\n",
    "        if c_adaptive\n",
    "            c = min(c, G[t])\n",
    "        end\n",
    "\n",
    "        H[t] = kNN_entropy_est(X[:,:,t], 1)\n",
    "        if annealed\n",
    "            tau_t = tau * (t + 1)^(-1)\n",
    "        else\n",
    "            tau_t = tau\n",
    "        end\n",
    "\n",
    "        F[t] = G[t] + tau_t * H[t]\n",
    "\n",
    "        for i = 1:m\n",
    "            grad_unmodified_1 = (sum(d1_dirichlet(X[:,i,t] - X[:,j,t], n) for j=1:m)/m \n",
    "                         - sum(d1_dirichlet(X[:,i,t] - X_target[:,j], n) for j=1:m_target)/m_target)\n",
    "            \n",
    "            grad_unmodified_2 = (sum(d2_dirichlet(X[:,i,t] - X[:,j,t], n) for j=1:m)/m \n",
    "                         - sum(d2_dirichlet(X[:,i,t] - X_target[:,j], n) for j=1:m_target)/m_target) \n",
    "            grad[1, i] = grad_LM(G[t], grad_unmodified_1, t; c, alpha_init, decay_factor, f, epsilon)\n",
    "\n",
    "            grad[2, i] = grad_LM(G[t], grad_unmodified_2, t; c, alpha_init, decay_factor, f, epsilon)\n",
    "\n",
    "        end\n",
    "\n",
    "        if t > niter * 0.8\n",
    "            X[:,:,t+1] = X[:,:,t] .- stepsize * grad\n",
    "        else \n",
    "            X[:,:,t+1] = X[:,:,t] .- stepsize * grad .+ sqrt(2 * stepsize * tau_t) * randn(d, m)\n",
    "        end\n",
    "end\n",
    "\n",
    "    return X, G, H, F\n",
    "end"
   ]
  },
  {
   "cell_type": "markdown",
   "id": "e1208de7",
   "metadata": {},
   "source": [
    "# Illustration"
   ]
  },
  {
   "cell_type": "code",
   "execution_count": 8,
   "id": "fcf325d9",
   "metadata": {},
   "outputs": [
    {
     "name": "stdout",
     "output_type": "stream",
     "text": [
      " 24.594051 seconds (748.56 M allocations: 13.904 GiB, 4.34% gc time, 9.82% compilation time)\n",
      " 22.166118 seconds (742.77 M allocations: 13.592 GiB, 4.08% gc time, 2.04% compilation time)\n"
     ]
    }
   ],
   "source": [
    "Random.seed!(1)\n",
    "niter=1000\n",
    "m_target = 10 # nb of ground truth particles\n",
    "m = 50 # nb of particles\n",
    "d=2\n",
    "X_target = 2π*rand(d, m_target) # ground truth\n",
    "X_init = 2π*rand(d, m); # random init\n",
    "\n",
    "Random.seed!(1)\n",
    "@time X, G, H, F = PGD(X_init, X_target, 0.1, niter, annealed=false);\n",
    "Random.seed!(1)\n",
    "@time X_LM, G_LM, H_LM, F_LM = PGD_LM(X_init, X_target, 0.1, niter, annealed=false);"
   ]
  },
  {
   "cell_type": "code",
   "execution_count": 9,
   "id": "61fe85c9",
   "metadata": {},
   "outputs": [],
   "source": [
    "figure(figsize=[10,4])\n",
    "subplot(121)\n",
    "plot(F,label=L\"F=G+\\tau H\")\n",
    "plot(G,label=L\"G\")\n",
    "plot(H,label=L\"H\")\n",
    "vlines(800,-5,5,\"k\",ls=\"--\",label=\"Noise stopped\")\n",
    "legend()\n",
    "xlabel(\"iteration count\")\n",
    "subplot(122)\n",
    "axis([0,2π,0,2π])\n",
    "plot(X_target[1,:], X_target[2,:],\"o\",ms=10,color=\"C0\",label=\"fixed ground truth\")\n",
    "plot(mod.(X[1,:,end],2π),mod.(X[2,:,end],2π),\"oC3\",ms=3,label=\"particles\")\n",
    "title(\"Final particles configuration\")\n",
    "legend()\n",
    "plt.savefig(\"Final particles configuration\")"
   ]
  },
  {
   "cell_type": "code",
   "execution_count": 10,
   "id": "323259c9",
   "metadata": {},
   "outputs": [],
   "source": [
    "figure(figsize=[10,4])\n",
    "subplot(121)\n",
    "plot(F_LM,label=L\"F=G+\\tau H\")\n",
    "plot(G_LM,label=L\"G\")\n",
    "plot(H_LM,label=L\"H\")\n",
    "vlines(800,-5,5,\"k\",ls=\"--\",label=\"Noise stopped\")\n",
    "legend()\n",
    "xlabel(\"iteration count\")\n",
    "subplot(122)\n",
    "axis([0,2π,0,2π])\n",
    "plot(X_target[1,:], X_target[2,:],\"o\",ms=10,color=\"C0\",label=\"fixed ground truth\")\n",
    "plot(mod.(X_LM[1,:,end],2π),mod.(X[2,:,end],2π),\"oC3\",ms=3,label=\"particles\")\n",
    "title(\"Final particles configuration with landscape modification\")\n",
    "legend()\n",
    "plt.savefig(\"Final particles configuration with LM\")"
   ]
  },
  {
   "cell_type": "markdown",
   "id": "7d347e30",
   "metadata": {},
   "source": [
    "# Convergence speed without annealing (long)"
   ]
  },
  {
   "cell_type": "code",
   "execution_count": 11,
   "id": "acfe79cf",
   "metadata": {
    "scrolled": true
   },
   "outputs": [
    {
     "name": "stderr",
     "output_type": "stream",
     "text": [
      "\u001b[32mComputing... 100%|███████████████████████████████████████| Time: 0:07:19\u001b[39m\u001b[K\n",
      "\u001b[32mComputing... 100%|███████████████████████████████████████| Time: 0:07:15\u001b[39m\u001b[K\n",
      "\u001b[32mComputing... 100%|███████████████████████████████████████| Time: 0:07:15\u001b[39m\u001b[K\n"
     ]
    }
   ],
   "source": [
    "Random.seed!(1)\n",
    "niter=1000 #1000\n",
    "d = 2\n",
    "m_target = 10 # nb of ground truth particles\n",
    "m = 50 # nb of particles\n",
    "nrep = 10 #nb of repetitions \n",
    "taus = [0.03,0.1,0.3]\n",
    "Fs = zeros(nrep,length(taus),niter-1)\n",
    "Fs_LM = zeros(nrep, length(taus), niter-1)\n",
    "for i=1:length(taus)\n",
    "@showprogress \"Computing...\"   for j=1:nrep\n",
    "        X_target = 2π*rand(d, m_target)\n",
    "        X_init = 2π*rand(d, m);\n",
    "\n",
    "        X, G, H, F = PGD(X_init, X_target, taus[i], niter, annealed=false);\n",
    "        Fs[j,i,:] = F\n",
    "\n",
    "        X_LM, G_LM, H_LM, F_LM = PGD_LM(X_init, X_target, taus[i], niter, annealed=false)\n",
    "        Fs_LM[j, i, :] = F_LM\n",
    "    end\n",
    "end"
   ]
  },
  {
   "cell_type": "code",
   "execution_count": 12,
   "id": "9b8ae6ab",
   "metadata": {},
   "outputs": [
    {
     "name": "stderr",
     "output_type": "stream",
     "text": [
      "sys:1: UserWarning: FigureCanvasAgg is non-interactive, and thus cannot be shown\n"
     ]
    }
   ],
   "source": [
    "using PyPlot\n",
    "\n",
    "# Example data (Replace with actual data)\n",
    "N, _, total_iterations = 100, 3, 1000  \n",
    "\n",
    "# Compute A values for PGD and PGD_LM\n",
    "A1 = sum(Fs[:,1,1:800] .- minimum(Fs[:,1,:],dims=2), dims=1)' ./ 10\n",
    "A2 = sum(Fs[:,2,1:800] .- minimum(Fs[:,2,:],dims=2), dims=1)' ./ 10\n",
    "A3 = sum(Fs[:,3,1:800] .- minimum(Fs[:,3,:],dims=2), dims=1)' ./ 10\n",
    "\n",
    "A1_LM = sum(Fs_LM[:,1,1:800] .- minimum(Fs_LM[:,1,:],dims=2), dims=1)' ./ 10\n",
    "A2_LM = sum(Fs_LM[:,2,1:800] .- minimum(Fs_LM[:,2,:],dims=2), dims=1)' ./ 10\n",
    "A3_LM = sum(Fs_LM[:,3,1:800] .- minimum(Fs_LM[:,3,:],dims=2), dims=1)' ./ 10\n",
    "\n",
    "fig, axs = plt.subplots(1, 3, figsize=(12, 4), sharey=true)\n",
    "fig.suptitle(\"Convergence Comparison of PGD vs PGD with LM (Without Annealing)\", fontsize=14, fontweight=\"bold\")\n",
    "\n",
    "taus = [0.03, 0.1, 0.3]\n",
    "A_vals = [(A1, A1_LM, 0.4), (A2, A2_LM, -1.1), (A3, A3_LM, -5.4)]\n",
    "pgd_colors = [\"C0\", \"C1\", \"C2\"]\n",
    "pgd_lm_colors = [\"C3\", \"C4\", \"C5\"]\n",
    "\n",
    "for i in 1:3\n",
    "    A, A_LM, offset = A_vals[i]\n",
    "    axs[i].semilogy([sum(A[j:j+10]) .+ offset for j=1:790], pgd_colors[i], lw=2, label=L\"PGD\")\n",
    "    axs[i].semilogy([sum(A_LM[j:j+10]) .+ offset for j=1:790], pgd_lm_colors[i], lw=2, label=L\"PGD_{LM}\")\n",
    "    \n",
    "    axs[i].set_xlabel(\"Iteration Count\")\n",
    "    axs[i].set_title(\"\\$\\\\tau = $(taus[i])\\$\")\n",
    "    axs[i].legend()\n",
    "end\n",
    "\n",
    "axs[1].set_ylabel(L\"F_\\tau(\\mu_t)+C\")\n",
    "plt.tight_layout(rect=[0, 0, 1, 0.95])\n",
    "\n",
    "# Ensure the plot saving and display statements are separate\n",
    "plt.savefig(\"convergence_comparison_tau_no_annealing.png\", bbox_inches=\"tight\")\n",
    "plt.show()\n"
   ]
  },
  {
   "cell_type": "markdown",
   "id": "b207f8cf",
   "metadata": {},
   "source": [
    "# Grid Search"
   ]
  },
  {
   "cell_type": "code",
   "execution_count": 64,
   "id": "6f3e68f9",
   "metadata": {},
   "outputs": [
    {
     "name": "stdout",
     "output_type": "stream",
     "text": [
      "Testing different values of c...\n"
     ]
    },
    {
     "name": "stderr",
     "output_type": "stream",
     "text": [
      "\u001b[32mProgress: 100%|█████████████████████████████████████████| Time: 0:22:10\u001b[39m\u001b[K\n"
     ]
    },
    {
     "name": "stdout",
     "output_type": "stream",
     "text": [
      "Testing different values of alpha...\n"
     ]
    },
    {
     "name": "stderr",
     "output_type": "stream",
     "text": [
      "\u001b[32mProgress: 100%|█████████████████████████████████████████| Time: 0:18:26\u001b[39m\u001b[K\n"
     ]
    },
    {
     "name": "stdout",
     "output_type": "stream",
     "text": [
      "Testing different values of decay factor...\n"
     ]
    },
    {
     "name": "stderr",
     "output_type": "stream",
     "text": [
      "\u001b[32mProgress: 100%|█████████████████████████████████████████| Time: 0:11:04\u001b[39m\u001b[K\n"
     ]
    },
    {
     "name": "stdout",
     "output_type": "stream",
     "text": [
      "Testing different functions f(x)...\n"
     ]
    },
    {
     "name": "stderr",
     "output_type": "stream",
     "text": [
      "\u001b[32mProgress: 100%|█████████████████████████████████████████| Time: 0:11:07\u001b[39m\u001b[K\n"
     ]
    }
   ],
   "source": [
    "using Random\n",
    "using PyPlot\n",
    "using ProgressMeter\n",
    "\n",
    "Random.seed!(1)\n",
    "\n",
    "c_values = [100, 50, 10, 1.0, 0.1, Inf]  # If Inf, c is adaptive; otherwise, it's fixed.\n",
    "alpha_values = [100, 50, 10, 1.0, 0.1]\n",
    "decay_factors = [1.0, 0.99, 0.9]\n",
    "f1(x) = x\n",
    "f2(x) = x^2\n",
    "f3(x) = x^3\n",
    "f_functions = [f1, f2, f3]\n",
    "\n",
    "# control\n",
    "default_c = Inf\n",
    "default_alpha = 1.0\n",
    "default_decay = 1.0\n",
    "default_f = x -> x\n",
    "default_tau = 0.1\n",
    "\n",
    "niter = 1000\n",
    "m_target = 10 \n",
    "m = 50        \n",
    "nrep = 10      \n",
    "\n",
    "\n",
    "results = Dict()\n",
    "\n",
    "function run_experiment(param_name, param_values)\n",
    "    for param in param_values\n",
    "        key = (param_name, param)\n",
    "        Fs = zeros(nrep, niter-1)\n",
    "        for j in 1:nrep\n",
    "            X_target = 2π * rand(d, m_target)\n",
    "            X_init = 2π * rand(d, m)\n",
    "            X, G, H, F = PGD_LM(X_init, X_target, default_tau, niter;\n",
    "                c = param_name == \"c\" ? param : default_c,\n",
    "                alpha_init = param_name == \"alpha\" ? param : default_alpha,\n",
    "                decay_factor = param_name == \"decay_factor\" ? param : default_decay,\n",
    "                f = param_name == \"f_function\" ? param : default_f,\n",
    "                epsilon = 1.0, \n",
    "                c_adaptive = (param_name == \"c\" ? param == Inf : true),\n",
    "                annealed = true\n",
    "            )\n",
    "\n",
    "            Fs[j, :] = F\n",
    "        end\n",
    "        results[key] = Fs\n",
    "    end\n",
    "end\n",
    "\n",
    "println(\"Testing different values of c...\")\n",
    "@showprogress for param in c_values\n",
    "    run_experiment(\"c\", [param])\n",
    "end\n",
    "\n",
    "println(\"Testing different values of alpha...\")\n",
    "@showprogress for param in alpha_values\n",
    "    run_experiment(\"alpha\", [param])\n",
    "end\n",
    "\n",
    "println(\"Testing different values of decay factor...\")\n",
    "@showprogress for param in decay_factors\n",
    "    run_experiment(\"decay_factor\", [param])\n",
    "end\n",
    "\n",
    "println(\"Testing different functions f(x)...\")\n",
    "@showprogress for param in f_functions\n",
    "    run_experiment(\"f_function\", [param])\n",
    "end\n",
    "\n",
    "# Run PGD without LM for comparison with default parameters\n",
    "Fs_default = zeros(nrep, niter-1)\n",
    "for j in 1:nrep\n",
    "    X_target = 2π * rand(d, m_target)\n",
    "    X_init = 2π * rand(d, m)\n",
    "    X, G, H, F = PGD(X_init, X_target, default_alpha, niter, annealed=true)\n",
    "    Fs_default[j, :] = F\n",
    "end\n"
   ]
  },
  {
   "cell_type": "code",
   "execution_count": 129,
   "id": "ffbf8be8",
   "metadata": {},
   "outputs": [],
   "source": [
    "using Plots\n",
    "\n",
    "figure(figsize=[12, 12])\n",
    "param_categories = [\"c\", \"alpha\", \"decay_factor\", \"f_function\"]\n",
    "\n",
    "for (i, category) in enumerate(param_categories)\n",
    "    subplot(2, 2, i)  \n",
    "\n",
    "    for (key, Fs) in results\n",
    "        param_name, param_value = key isa Tuple ? key : (\"Default\", \"PGD\")\n",
    "\n",
    "        if param_name == category\n",
    "            A = sum(Fs[:, 1:800] .- minimum(Fs[:, :], dims=2), dims=1)' / 10\n",
    "            label_str = param_name == \"c\" && param_value == Inf ? \"$(param_name) Adaptive\" : \"$(param_name)=$(param_value)\"\n",
    "            semilogy([sum(A[i:i+10]) for i=1:790], lw=2, label=label_str)\n",
    "        end\n",
    "    end\n",
    "\n",
    "    # Add the PGD default line to each subplot\n",
    "    A_default = sum(Fs_default[:, 1:800] .- minimum(Fs_default[:, :], dims=2), dims=1)' / 10\n",
    "    semilogy([sum(A_default[i:i+10]) for i=1:790], \"k--\", lw=2, label=\"PGD Default\")\n",
    "\n",
    "    legend()\n",
    "    xlabel(\"Iteration Count\")\n",
    "    ylabel(L\"F_\\tau(\\mu_t) + C\")\n",
    "    title(\"Convergence for $(category) Parameter Tuning\")\n",
    "end\n",
    "\n",
    "savefig(\"individual_param_search_subplots.png\", dpi=300, bbox_inches=\"tight\")\n"
   ]
  },
  {
   "cell_type": "markdown",
   "id": "0e77418c",
   "metadata": {},
   "source": [
    "# Convergence speed with annealing & comparison PGD vs NPGD (long)\n"
   ]
  },
  {
   "cell_type": "code",
   "execution_count": 15,
   "id": "4148365e",
   "metadata": {},
   "outputs": [
    {
     "name": "stderr",
     "output_type": "stream",
     "text": [
      "\u001b[32mComputing... 100%|███████████████████████████████████████| Time: 0:14:31\u001b[39m\u001b[K\n"
     ]
    }
   ],
   "source": [
    "# takes 5 minutes\n",
    "Random.seed!(1)\n",
    "niter=1000\n",
    "m_target = 10 # nb of ground truth particles\n",
    "m = 50 # nb of particles\n",
    "G1s = zeros(niter-1, 10)  # PGD with tau = 0.0\n",
    "G2s = zeros(niter-1, 10)  # PGD with tau = 20.0\n",
    "G1s_LM = zeros(niter-1, 10)  # PGD_LM with tau = 0.0\n",
    "G2s_LM = zeros(niter-1, 10)  # PGD_LM with tau = 20.0\n",
    "\n",
    "@showprogress \"Computing...\" for k=1:10\n",
    "    X_target = 2π * rand(d, m_target)\n",
    "    X_init = 2π * rand(d, m)\n",
    "\n",
    "    # Run original PGD with different tau values\n",
    "    X1, G1 = PGD(X_init, X_target, 0.0, niter, annealed=true)\n",
    "    X2, G2 = PGD(X_init, X_target, 20.0, niter, annealed=true)\n",
    "\n",
    "    # Run PGD with landscape modification\n",
    "    X1_LM, G1_LM = PGD_LM(X_init, X_target, 0.0, niter, annealed=true)\n",
    "    X2_LM, G2_LM = PGD_LM(X_init, X_target, 20.0, niter, annealed=true)\n",
    "\n",
    "    # Store results\n",
    "    G1s[:, k] = G1\n",
    "    G2s[:, k] = G2\n",
    "    G1s_LM[:, k] = G1_LM\n",
    "    G2s_LM[:, k] = G2_LM\n",
    "end\n"
   ]
  },
  {
   "cell_type": "code",
   "execution_count": 16,
   "id": "1d5e8bfd",
   "metadata": {},
   "outputs": [],
   "source": [
    "figure(figsize=[4,3])\n",
    "for k=1:10\n",
    "semilogy(G1s[:,k],alpha=0.1,\"C0\")\n",
    "semilogy(G2s[:,k],alpha=0.1,\"C1\")\n",
    "end\n",
    "semilogy(sum(G1s,dims=2)/10,\"C0\",lw=2,label=\"PGD\")\n",
    "semilogy(sum(G2s,dims=2)/10,\"C1\",lw=2,label=\"NPGD (annealed)\")\n",
    "vlines(800,0.002,10,\"k\",ls=\"--\",label=\"Noise stopped\")\n",
    "legend(loc=3)\n",
    "xlabel(\"Iteration count\")\n",
    "ylabel(L\"G(\\mu_t)-\\inf G\")\n",
    "axis([0,1000,0.002,3])\n",
    "savefig(\"compare-NPGD.png\",bbox_inches=\"tight\")"
   ]
  },
  {
   "cell_type": "markdown",
   "id": "611d53c7",
   "metadata": {},
   "source": [
    "# Video animation"
   ]
  },
  {
   "cell_type": "code",
   "execution_count": 18,
   "id": "a42fb77a",
   "metadata": {},
   "outputs": [
    {
     "name": "stdout",
     "output_type": "stream",
     "text": [
      " 44.924301 seconds (1.48 G allocations: 27.077 GiB, 5.64% gc time)\n",
      " 44.533538 seconds (1.48 G allocations: 27.080 GiB, 5.35% gc time, 0.20% compilation time)\n",
      " 44.314371 seconds (1.48 G allocations: 27.121 GiB, 5.40% gc time)\n",
      " 44.641711 seconds (1.48 G allocations: 27.077 GiB, 5.35% gc time)\n"
     ]
    }
   ],
   "source": [
    "# takes 30 sec\n",
    "Random.seed!(2)\n",
    "niter=2000\n",
    "m_target = 10 # nb of ground truth particles\n",
    "m = 50 # nb of particles\n",
    "X_target = 2π*rand(d, m_target)\n",
    "X_init = 2π*rand(d, m);\n",
    "@time X1, G1 = PGD(X_init, X_target, 0.0, niter,annealed=false); #no noise\n",
    "@time X2, G2 = PGD(X_init, X_target, 20, niter,annealed=true); # noise # choose annealed (tau=20) or not (tau=0.1)\n",
    "@time X1_LM, G1_LM = PGD_LM(X_init, X_target, 0.0, niter,annealed=false); #no noise, with landscape modification\n",
    "@time X2_LM, G2_LM = PGD(X_init, X_target, 20, niter,annealed=true); # noise # choose annealed (tau=20)or not (tau=0.1), with landscape modification"
   ]
  },
  {
   "cell_type": "code",
   "execution_count": 19,
   "id": "33bef277",
   "metadata": {},
   "outputs": [],
   "source": [
    "# original\n",
    "figure(figsize=[4,3])\n",
    "semilogy(G1,label=L\", no noise\")\n",
    "plot(G2,label=L\", noise\")\n",
    "vlines(0.8*niter,0.002,10,\"k\",ls=\"--\",label=\"Noise stopped\")\n",
    "legend();"
   ]
  },
  {
   "cell_type": "code",
   "execution_count": 36,
   "id": "98302ba2",
   "metadata": {},
   "outputs": [
    {
     "name": "stderr",
     "output_type": "stream",
     "text": [
      "sys:1: RuntimeWarning: More than 20 figures have been opened. Figures created through the pyplot interface (`matplotlib.pyplot.figure`) are retained until explicitly closed and may consume too much memory. (To control this warning, see the rcParam `figure.max_open_warning`). Consider using `matplotlib.pyplot.close()`.\n"
     ]
    }
   ],
   "source": [
    "using Printf\n",
    "\n",
    "# Create frames directory\n",
    "mkpath(\"frames\")\n",
    "\n",
    "# Function to generate and save animation frames manually\n",
    "function save_frame(t)\n",
    "    figure(figsize=(10, 4))\n",
    "\n",
    "    for (i, (X, title_str)) in enumerate([(X1, \"No noise (PGD)\"), (X2, \"Noise (NPGD)\"),\n",
    "                                          (X1_LM, \"No noise (PGD_LM)\"), (X2_LM, \"Noise (NPGD_LM)\")])\n",
    "        subplot(2, 2, i)\n",
    "        axis([0, 2π, 0, 2π])\n",
    "        plot(mod.(X[1, :, t], 2π), mod.(X[2, :, t], 2π), \"ko\", ms=3)\n",
    "        plot(X_target[1, :], X_target[2, :], \"oC3\")\n",
    "        PyPlot.xticks([0, 2π], [\"0\", \"2π\"])\n",
    "        PyPlot.yticks([0, 2π], [\"0\", \"2π\"])\n",
    "        title(title_str)\n",
    "    end\n",
    "\n",
    "    savefig(@sprintf(\"frames/%04d.png\", t), dpi=150, bbox_inches=\"tight\")\n",
    "    close()\n",
    "end\n",
    "\n",
    "# Save frames every 50 iterations\n",
    "for t in 1:50:niter\n",
    "    save_frame(t)\n",
    "    close()\n",
    "end"
   ]
  },
  {
   "cell_type": "code",
   "execution_count": null,
   "id": "f8a49c53",
   "metadata": {},
   "outputs": [
    {
     "name": "stdout",
     "output_type": "stream",
     "text": [
      "Sorted files: [\"0001.png\", \"0051.png\", \"0101.png\", \"0151.png\", \"0201.png\", \"0251.png\", \"0301.png\", \"0351.png\", \"0401.png\", \"0451.png\", \"0501.png\", \"0551.png\", \"0601.png\", \"0651.png\", \"0701.png\", \"0751.png\", \"0801.png\", \"0851.png\", \"0901.png\", \"0951.png\", \"1001.png\", \"1051.png\", \"1101.png\", \"1151.png\", \"1201.png\", \"1251.png\", \"1301.png\", \"1351.png\", \"1401.png\", \"1451.png\", \"1501.png\", \"1551.png\", \"1601.png\", \"1651.png\", \"1701.png\", \"1751.png\", \"1801.png\", \"1851.png\", \"1901.png\", \"1951.png\"]\n"
     ]
    },
    {
     "name": "stderr",
     "output_type": "stream",
     "text": [
      "┌ Info: Saved animation to /Users/mulan/NUS/Research/UROP/animation.gif\n",
      "└ @ Plots /Users/mulan/.julia/packages/Plots/Ec1L1/src/animation.jl:156\n"
     ]
    },
    {
     "data": {
      "text/html": [
       "<img src=\"data:image/gif;base64,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\" />"
      ],
      "text/plain": [
       "Plots.AnimatedGif(\"/Users/mulan/NUS/Research/UROP/animation.gif\")"
      ]
     },
     "metadata": {},
     "output_type": "display_data"
    }
   ],
   "source": [
    "using Plots, Images\n",
    "\n",
    "# Use GR backend for efficient plotting\n",
    "gr()\n",
    "\n",
    "# Directory containing the frames\n",
    "frame_dir = \"frames\"\n",
    "\n",
    "# Function to extract numeric part from filename\n",
    "function extract_frame_number(filename)\n",
    "    m = match(r\"(\\d+)\", filename)  # Extract numeric part from filename\n",
    "    return m !== nothing ? parse(Int, m.match) : nothing\n",
    "end\n",
    "\n",
    "# Get list of valid image files (ignoring hidden/system files)\n",
    "frame_files = filter(f -> endswith(f, \".png\") && !startswith(f, \".\"), readdir(frame_dir))\n",
    "\n",
    "# Sort files numerically by their extracted frame numbers\n",
    "sorted_files = sort(frame_files, by = x -> extract_frame_number(x))\n",
    "\n",
    "# Print sorted files for verification\n",
    "println(\"Sorted files: \", sorted_files)\n",
    "\n",
    "animation_result = @animate for file in sorted_files\n",
    "    img = load(joinpath(frame_dir, file))\n",
    "    heatmap(img, color=:grays, framestyle=:none, ticks=false, title=\"Iteration Count: $file\")\n",
    "end\n",
    "gif(animation_result, \"animation.gif\", fps=15)\n",
    "\n",
    "# add plot for objective function\n",
    "\n",
    "    "
   ]
  },
  {
   "cell_type": "markdown",
   "id": "6c2beb22",
   "metadata": {},
   "source": [
    "# plot for paper (iteration $t=1500$)"
   ]
  },
  {
   "cell_type": "code",
   "execution_count": 22,
   "id": "8c379180",
   "metadata": {},
   "outputs": [
    {
     "data": {
      "text/plain": [
       "(PyCall.PyObject[PyObject <matplotlib.axis.YTick object at 0x2b73169f0>, PyObject <matplotlib.axis.YTick object at 0x2b74065a0>], PyCall.PyObject[PyObject Text(0, 0.0, '0'), PyObject Text(0, 6.283185307179586, '2π')])"
      ]
     },
     "metadata": {},
     "output_type": "display_data"
    }
   ],
   "source": [
    "figure(figsize=[4,4])\n",
    "axis([0,2π,0,2π])\n",
    "plot(mod.(X2[1,:,1500],2π),mod.(X2[2,:,1500],2π),\"ko\",ms=3)\n",
    "plot(X_target[1,:], X_target[2,:],\"oC3\")\n",
    "PyPlot.xticks([0,2π],[\"0\",\"2π\"])\n",
    "PyPlot.yticks([0,2π],[\"0\",\"2π\"]);\n",
    "    #savefig(\"config.png\",bbox_inches=\"tight\")"
   ]
  }
 ],
 "metadata": {
  "@webio": {
   "lastCommId": null,
   "lastKernelId": null
  },
  "kernelspec": {
   "display_name": "Julia 1.11.2",
   "language": "julia",
   "name": "julia-1.11"
  },
  "language_info": {
   "file_extension": ".jl",
   "mimetype": "application/julia",
   "name": "julia",
   "version": "1.11.2"
  }
 },
 "nbformat": 4,
 "nbformat_minor": 5
}
